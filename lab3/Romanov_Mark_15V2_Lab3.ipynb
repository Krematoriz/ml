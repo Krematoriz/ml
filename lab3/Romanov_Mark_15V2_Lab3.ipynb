{
 "cells": [
  {
   "cell_type": "markdown",
   "metadata": {},
   "source": [
    "# Лабораторная работа №3\n",
    "\n",
    "Вариант №10\n",
    "\n",
    "Выполнил студент группы 15-В-2\n",
    "Романов М.К."
   ]
  },
  {
   "cell_type": "code",
   "execution_count": 1,
   "metadata": {
    "collapsed": true
   },
   "outputs": [],
   "source": [
    "import numpy as np\n",
    "import pandas as pd\n",
    "import sklearn as sk\n",
    "import seaborn as sns\n",
    "import matplotlib.pyplot as plt\n",
    "\n",
    "from sklearn import linear_model\n",
    "from sklearn.preprocessing import MinMaxScaler\n",
    "from sklearn.model_selection import GridSearchCV\n",
    "from sklearn.preprocessing import PolynomialFeatures\n",
    "from sklearn.model_selection import (cross_val_score, StratifiedKFold, train_test_split)\n",
    "from sklearn.linear_model import LogisticRegression, LogisticRegressionCV\n",
    "\n",
    "from scipy.stats import *\n",
    "\n",
    "df = pd.read_csv(r'airfoil_self_noise.dat.txt', sep='\\t')"
   ]
  },
  {
   "cell_type": "code",
   "execution_count": 2,
   "metadata": {},
   "outputs": [
    {
     "data": {
      "text/html": [
       "<div>\n",
       "<style>\n",
       "    .dataframe thead tr:only-child th {\n",
       "        text-align: right;\n",
       "    }\n",
       "\n",
       "    .dataframe thead th {\n",
       "        text-align: left;\n",
       "    }\n",
       "\n",
       "    .dataframe tbody tr th {\n",
       "        vertical-align: top;\n",
       "    }\n",
       "</style>\n",
       "<table border=\"1\" class=\"dataframe\">\n",
       "  <thead>\n",
       "    <tr style=\"text-align: right;\">\n",
       "      <th></th>\n",
       "      <th>frequency</th>\n",
       "      <th>attack</th>\n",
       "      <th>chord</th>\n",
       "      <th>velocity</th>\n",
       "      <th>thickness</th>\n",
       "      <th>sound</th>\n",
       "    </tr>\n",
       "  </thead>\n",
       "  <tbody>\n",
       "    <tr>\n",
       "      <th>0</th>\n",
       "      <td>800</td>\n",
       "      <td>0.0</td>\n",
       "      <td>0.3048</td>\n",
       "      <td>71.3</td>\n",
       "      <td>0.002663</td>\n",
       "      <td>126.201</td>\n",
       "    </tr>\n",
       "    <tr>\n",
       "      <th>1</th>\n",
       "      <td>1000</td>\n",
       "      <td>0.0</td>\n",
       "      <td>0.3048</td>\n",
       "      <td>71.3</td>\n",
       "      <td>0.002663</td>\n",
       "      <td>125.201</td>\n",
       "    </tr>\n",
       "    <tr>\n",
       "      <th>2</th>\n",
       "      <td>1250</td>\n",
       "      <td>0.0</td>\n",
       "      <td>0.3048</td>\n",
       "      <td>71.3</td>\n",
       "      <td>0.002663</td>\n",
       "      <td>125.951</td>\n",
       "    </tr>\n",
       "    <tr>\n",
       "      <th>3</th>\n",
       "      <td>1600</td>\n",
       "      <td>0.0</td>\n",
       "      <td>0.3048</td>\n",
       "      <td>71.3</td>\n",
       "      <td>0.002663</td>\n",
       "      <td>127.591</td>\n",
       "    </tr>\n",
       "    <tr>\n",
       "      <th>4</th>\n",
       "      <td>2000</td>\n",
       "      <td>0.0</td>\n",
       "      <td>0.3048</td>\n",
       "      <td>71.3</td>\n",
       "      <td>0.002663</td>\n",
       "      <td>127.461</td>\n",
       "    </tr>\n",
       "  </tbody>\n",
       "</table>\n",
       "</div>"
      ],
      "text/plain": [
       "   frequency  attack   chord  velocity  thickness    sound\n",
       "0        800     0.0  0.3048      71.3   0.002663  126.201\n",
       "1       1000     0.0  0.3048      71.3   0.002663  125.201\n",
       "2       1250     0.0  0.3048      71.3   0.002663  125.951\n",
       "3       1600     0.0  0.3048      71.3   0.002663  127.591\n",
       "4       2000     0.0  0.3048      71.3   0.002663  127.461"
      ]
     },
     "execution_count": 2,
     "metadata": {},
     "output_type": "execute_result"
    }
   ],
   "source": [
    "df.head()"
   ]
  },
  {
   "cell_type": "markdown",
   "metadata": {},
   "source": [
    "# 1. Изучить набор данных. Создать описание набора данных на русском языке. Описать признаки, используемые в наборе данных (включить полученные описания в отчёт)\n",
    "\n",
    "Набор данных NASA содержит аэродинамические профили NACA 0012 различного размера на различных скоростях и углах атаки в аэродинамической трубе.\n",
    "Пролет аэродинамического профиля и положение наблюдателя были одинаковыми во всех экспериментах.\n",
    "\n",
    "    frequency - Частота в Герцах\n",
    "    attack - Угол атаки а градусах\n",
    "    chord - Длина хорды(провода) в метрах\n",
    "    velocity - Скорость свободного потока в метрах в секунду\n",
    "    thickness - Толщина смещения всасывающей стороны в метрах\n",
    "    sound - Маштабированный уровень звукового давления в дицибелах\n"
   ]
  },
  {
   "cell_type": "markdown",
   "metadata": {},
   "source": [
    "# 2. Удалите дубликаты строк в наборе данных;приведите размер набора данных до и после данной операции;"
   ]
  },
  {
   "cell_type": "code",
   "execution_count": 3,
   "metadata": {},
   "outputs": [
    {
     "name": "stdout",
     "output_type": "stream",
     "text": [
      "(1503, 6)\n",
      "\n",
      "\n",
      "<class 'pandas.core.frame.DataFrame'>\n",
      "RangeIndex: 1503 entries, 0 to 1502\n",
      "Data columns (total 6 columns):\n",
      "frequency    1503 non-null int64\n",
      "attack       1503 non-null float64\n",
      "chord        1503 non-null float64\n",
      "velocity     1503 non-null float64\n",
      "thickness    1503 non-null float64\n",
      "sound        1503 non-null float64\n",
      "dtypes: float64(5), int64(1)\n",
      "memory usage: 70.5 KB\n"
     ]
    }
   ],
   "source": [
    "print(df.shape)\n",
    "print('\\n')\n",
    "df.info()"
   ]
  },
  {
   "cell_type": "code",
   "execution_count": 4,
   "metadata": {},
   "outputs": [
    {
     "name": "stdout",
     "output_type": "stream",
     "text": [
      "(1503, 6)\n",
      "\n",
      "\n",
      "<class 'pandas.core.frame.DataFrame'>\n",
      "Int64Index: 1503 entries, 0 to 1502\n",
      "Data columns (total 6 columns):\n",
      "frequency    1503 non-null int64\n",
      "attack       1503 non-null float64\n",
      "chord        1503 non-null float64\n",
      "velocity     1503 non-null float64\n",
      "thickness    1503 non-null float64\n",
      "sound        1503 non-null float64\n",
      "dtypes: float64(5), int64(1)\n",
      "memory usage: 82.2 KB\n"
     ]
    }
   ],
   "source": [
    "df = df.drop_duplicates()\n",
    "df = df.dropna()\n",
    "print(df.shape)\n",
    "print('\\n')\n",
    "df.info()"
   ]
  },
  {
   "cell_type": "markdown",
   "metadata": {},
   "source": [
    "# 3. Выполните масштабирование количественных признаков; Постройте диаграммы BoxPlot для признаков до и после масштабирования. Выберите способ масштабирования (например, нормализацию или стандартизацию)"
   ]
  },
  {
   "cell_type": "code",
   "execution_count": 5,
   "metadata": {},
   "outputs": [
    {
     "name": "stdout",
     "output_type": "stream",
     "text": [
      "Числовые столбцы:  ['frequency', 'attack', 'chord', 'velocity', 'thickness', 'sound']\n",
      "\n",
      "\n",
      "Категориальные стобцы:  []\n"
     ]
    }
   ],
   "source": [
    "numerical = [i for i in df.columns if df[i].dtype.name != 'object']\n",
    "categorial = [i for i in df.columns if df[i].dtype.name == 'object']\n",
    "\n",
    "print('Числовые столбцы: ', numerical)\n",
    "print('\\n')\n",
    "print('Категориальные стобцы: ', categorial)"
   ]
  },
  {
   "cell_type": "code",
   "execution_count": 14,
   "metadata": {},
   "outputs": [
    {
     "data": {
      "image/png": "[encoded data removed]",
      "text/plain": [
       "<matplotlib.figure.Figure at 0x2a9ed927cf8>"
      ]
     },
     "metadata": {},
     "output_type": "display_data"
    }
   ],
   "source": [
    "df.boxplot(column='attack', by='chord', figsize=(10,6))\n",
    "plt.show()"
   ]
  },
  {
   "cell_type": "code",
   "execution_count": 8,
   "metadata": {},
   "outputs": [
    {
     "name": "stdout",
     "output_type": "stream",
     "text": [
      "Числовые столбцы:  ['frequency', 'attack', 'chord', 'velocity', 'thickness', 'sound']\n",
      "\n",
      "\n",
      "Категориальные стобцы:  []\n"
     ]
    }
   ],
   "source": [
    "def cast(obj):\n",
    "    if type(obj) == str:\n",
    "        return float(obj.replace(',', '.'))\n",
    "    else:\n",
    "        return obj\n",
    "\n",
    "df['velocity'] = df['velocity'].apply(lambda x: cast(x))\n",
    "df['chord'] = df['chord'].apply(lambda x: cast(x))\n",
    "\n",
    "numerical = [i for i in df.columns if df[i].dtype.name != 'object']\n",
    "categorial = [i for i in df.columns if df[i].dtype.name == 'object']\n",
    "\n",
    "print('Числовые столбцы: ', numerical)\n",
    "print('\\n')\n",
    "print('Категориальные стобцы: ', categorial)"
   ]
  },
  {
   "cell_type": "code",
   "execution_count": 9,
   "metadata": {},
   "outputs": [
    {
     "data": {
      "text/html": [
       "<div>\n",
       "<style>\n",
       "    .dataframe thead tr:only-child th {\n",
       "        text-align: right;\n",
       "    }\n",
       "\n",
       "    .dataframe thead th {\n",
       "        text-align: left;\n",
       "    }\n",
       "\n",
       "    .dataframe tbody tr th {\n",
       "        vertical-align: top;\n",
       "    }\n",
       "</style>\n",
       "<table border=\"1\" class=\"dataframe\">\n",
       "  <thead>\n",
       "    <tr style=\"text-align: right;\">\n",
       "      <th></th>\n",
       "      <th>frequency</th>\n",
       "      <th>attack</th>\n",
       "      <th>chord</th>\n",
       "      <th>velocity</th>\n",
       "      <th>thickness</th>\n",
       "      <th>sound</th>\n",
       "    </tr>\n",
       "  </thead>\n",
       "  <tbody>\n",
       "    <tr>\n",
       "      <th>1498</th>\n",
       "      <td>0.116162</td>\n",
       "      <td>0.702703</td>\n",
       "      <td>0.272727</td>\n",
       "      <td>0.199495</td>\n",
       "      <td>0.904111</td>\n",
       "      <td>0.183051</td>\n",
       "    </tr>\n",
       "    <tr>\n",
       "      <th>1499</th>\n",
       "      <td>0.148990</td>\n",
       "      <td>0.702703</td>\n",
       "      <td>0.272727</td>\n",
       "      <td>0.199495</td>\n",
       "      <td>0.904111</td>\n",
       "      <td>0.156194</td>\n",
       "    </tr>\n",
       "    <tr>\n",
       "      <th>1500</th>\n",
       "      <td>0.191919</td>\n",
       "      <td>0.702703</td>\n",
       "      <td>0.272727</td>\n",
       "      <td>0.199495</td>\n",
       "      <td>0.904111</td>\n",
       "      <td>0.085729</td>\n",
       "    </tr>\n",
       "    <tr>\n",
       "      <th>1501</th>\n",
       "      <td>0.242424</td>\n",
       "      <td>0.702703</td>\n",
       "      <td>0.272727</td>\n",
       "      <td>0.199495</td>\n",
       "      <td>0.904111</td>\n",
       "      <td>0.075624</td>\n",
       "    </tr>\n",
       "    <tr>\n",
       "      <th>1502</th>\n",
       "      <td>0.308081</td>\n",
       "      <td>0.702703</td>\n",
       "      <td>0.272727</td>\n",
       "      <td>0.199495</td>\n",
       "      <td>0.904111</td>\n",
       "      <td>0.021911</td>\n",
       "    </tr>\n",
       "  </tbody>\n",
       "</table>\n",
       "</div>"
      ],
      "text/plain": [
       "      frequency    attack     chord  velocity  thickness     sound\n",
       "1498   0.116162  0.702703  0.272727  0.199495   0.904111  0.183051\n",
       "1499   0.148990  0.702703  0.272727  0.199495   0.904111  0.156194\n",
       "1500   0.191919  0.702703  0.272727  0.199495   0.904111  0.085729\n",
       "1501   0.242424  0.702703  0.272727  0.199495   0.904111  0.075624\n",
       "1502   0.308081  0.702703  0.272727  0.199495   0.904111  0.021911"
      ]
     },
     "execution_count": 9,
     "metadata": {},
     "output_type": "execute_result"
    }
   ],
   "source": [
    "scaler = MinMaxScaler()\n",
    "df[numerical] = scaler.fit_transform(df[numerical])\n",
    "\n",
    "df.tail()"
   ]
  },
  {
   "cell_type": "code",
   "execution_count": 13,
   "metadata": {},
   "outputs": [
    {
     "data": {
      "image/png": "[encoded data removed]",
      "text/plain": [
       "<matplotlib.figure.Figure at 0x2a9edc44eb8>"
      ]
     },
     "metadata": {},
     "output_type": "display_data"
    }
   ],
   "source": [
    "df.boxplot(column='attack', by='chord', figsize=(10,6))\n",
    "plt.show()"
   ]
  },
  {
   "cell_type": "markdown",
   "metadata": {},
   "source": [
    "Задание №4 не нуждается в выполнении, так как категориальных признаков нет"
   ]
  },
  {
   "cell_type": "markdown",
   "metadata": {},
   "source": [
    "# 5. Оцените корреляцию между признаков и удалите те признаки, которые коррелируют с наибольшим числом других"
   ]
  },
  {
   "cell_type": "code",
   "execution_count": 16,
   "metadata": {},
   "outputs": [
    {
     "data": {
      "image/png": "[encoded data removed]",
      "text/plain": [
       "<matplotlib.figure.Figure at 0x2a9ecc99a58>"
      ]
     },
     "metadata": {},
     "output_type": "display_data"
    }
   ],
   "source": [
    "matrix = df.corr()\n",
    "sns.heatmap(matrix);\n",
    "plt.show()"
   ]
  },
  {
   "cell_type": "code",
   "execution_count": 18,
   "metadata": {},
   "outputs": [
    {
     "data": {
      "text/html": [
       "<div>\n",
       "<style>\n",
       "    .dataframe thead tr:only-child th {\n",
       "        text-align: right;\n",
       "    }\n",
       "\n",
       "    .dataframe thead th {\n",
       "        text-align: left;\n",
       "    }\n",
       "\n",
       "    .dataframe tbody tr th {\n",
       "        vertical-align: top;\n",
       "    }\n",
       "</style>\n",
       "<table border=\"1\" class=\"dataframe\">\n",
       "  <thead>\n",
       "    <tr style=\"text-align: right;\">\n",
       "      <th></th>\n",
       "      <th>frequency</th>\n",
       "      <th>attack</th>\n",
       "      <th>chord</th>\n",
       "      <th>velocity</th>\n",
       "      <th>thickness</th>\n",
       "      <th>sound</th>\n",
       "    </tr>\n",
       "  </thead>\n",
       "  <tbody>\n",
       "    <tr>\n",
       "      <th>frequency</th>\n",
       "      <td>1.000000</td>\n",
       "      <td>-0.272765</td>\n",
       "      <td>-0.003661</td>\n",
       "      <td>0.133664</td>\n",
       "      <td>-0.230107</td>\n",
       "      <td>-0.390711</td>\n",
       "    </tr>\n",
       "    <tr>\n",
       "      <th>attack</th>\n",
       "      <td>-0.272765</td>\n",
       "      <td>1.000000</td>\n",
       "      <td>-0.504868</td>\n",
       "      <td>0.058760</td>\n",
       "      <td>0.753394</td>\n",
       "      <td>-0.156108</td>\n",
       "    </tr>\n",
       "    <tr>\n",
       "      <th>chord</th>\n",
       "      <td>-0.003661</td>\n",
       "      <td>-0.504868</td>\n",
       "      <td>1.000000</td>\n",
       "      <td>0.003787</td>\n",
       "      <td>-0.220842</td>\n",
       "      <td>-0.236162</td>\n",
       "    </tr>\n",
       "    <tr>\n",
       "      <th>velocity</th>\n",
       "      <td>0.133664</td>\n",
       "      <td>0.058760</td>\n",
       "      <td>0.003787</td>\n",
       "      <td>1.000000</td>\n",
       "      <td>-0.003974</td>\n",
       "      <td>0.125103</td>\n",
       "    </tr>\n",
       "    <tr>\n",
       "      <th>thickness</th>\n",
       "      <td>-0.230107</td>\n",
       "      <td>0.753394</td>\n",
       "      <td>-0.220842</td>\n",
       "      <td>-0.003974</td>\n",
       "      <td>1.000000</td>\n",
       "      <td>-0.312670</td>\n",
       "    </tr>\n",
       "    <tr>\n",
       "      <th>sound</th>\n",
       "      <td>-0.390711</td>\n",
       "      <td>-0.156108</td>\n",
       "      <td>-0.236162</td>\n",
       "      <td>0.125103</td>\n",
       "      <td>-0.312670</td>\n",
       "      <td>1.000000</td>\n",
       "    </tr>\n",
       "  </tbody>\n",
       "</table>\n",
       "</div>"
      ],
      "text/plain": [
       "           frequency    attack     chord  velocity  thickness     sound\n",
       "frequency   1.000000 -0.272765 -0.003661  0.133664  -0.230107 -0.390711\n",
       "attack     -0.272765  1.000000 -0.504868  0.058760   0.753394 -0.156108\n",
       "chord      -0.003661 -0.504868  1.000000  0.003787  -0.220842 -0.236162\n",
       "velocity    0.133664  0.058760  0.003787  1.000000  -0.003974  0.125103\n",
       "thickness  -0.230107  0.753394 -0.220842 -0.003974   1.000000 -0.312670\n",
       "sound      -0.390711 -0.156108 -0.236162  0.125103  -0.312670  1.000000"
      ]
     },
     "execution_count": 18,
     "metadata": {},
     "output_type": "execute_result"
    }
   ],
   "source": [
    "matrix"
   ]
  },
  {
   "cell_type": "code",
   "execution_count": 19,
   "metadata": {},
   "outputs": [
    {
     "data": {
      "image/png": "[encoded data removed]",
      "text/plain": [
       "<matplotlib.figure.Figure at 0x2a9ed68a8d0>"
      ]
     },
     "metadata": {},
     "output_type": "display_data"
    }
   ],
   "source": [
    "#Угол атаки сильно коррелирует со скоростью и толщиной смещения, удалим его\n",
    "matrix = df.drop(['attack'], axis=1).corr()\n",
    "sns.heatmap(matrix);\n",
    "plt.show()"
   ]
  },
  {
   "cell_type": "markdown",
   "metadata": {},
   "source": [
    "# 6. Заполните пропущенные значения в данных"
   ]
  },
  {
   "cell_type": "code",
   "execution_count": 20,
   "metadata": {},
   "outputs": [
    {
     "name": "stdout",
     "output_type": "stream",
     "text": [
      "<class 'pandas.core.frame.DataFrame'>\n",
      "Int64Index: 1503 entries, 0 to 1502\n",
      "Data columns (total 6 columns):\n",
      "frequency    1503 non-null float64\n",
      "attack       1503 non-null float64\n",
      "chord        1503 non-null float64\n",
      "velocity     1503 non-null float64\n",
      "thickness    1503 non-null float64\n",
      "sound        1503 non-null float64\n",
      "dtypes: float64(6)\n",
      "memory usage: 82.2 KB\n"
     ]
    }
   ],
   "source": [
    "df.info()"
   ]
  },
  {
   "cell_type": "markdown",
   "metadata": {},
   "source": [
    "Задание №6 не нуждается в выполнении, т.к. пропусков нет"
   ]
  },
  {
   "cell_type": "markdown",
   "metadata": {},
   "source": [
    "# 7.Решите поставленную задачу регрессии в соответствии с заданием. При подборе параметров метода принятия решения используйте перекрёстную проверку (изучите возможные для изменения параметры метода регрессии).  Вычислите точность решения задачи, вычислив разницу между реальным значением и предсказанным. Вычислите коэффициент корреляции (Пирсона, Спирмена) между реальным значением и предсказаннымс учётом p-value"
   ]
  },
  {
   "cell_type": "code",
   "execution_count": 44,
   "metadata": {},
   "outputs": [
    {
     "data": {
      "text/plain": [
       "Ridge(alpha=0.5, copy_X=True, fit_intercept=True, max_iter=None,\n",
       "   normalize=False, random_state=None, solver='auto', tol=0.001)"
      ]
     },
     "execution_count": 44,
     "metadata": {},
     "output_type": "execute_result"
    }
   ],
   "source": [
    "# линейная регрессия, RIDGE регуляризатор.\n",
    "X, y = df.drop(['sound' ], axis=1), df['sound']\n",
    "X_train, X_test, y_train, y_test = train_test_split(X, y, test_size = 0.3, random_state = 57)\n",
    "\n",
    "reg = linear_model.Ridge (alpha = 0.5)\n",
    "reg.fit (X_train, y_train)"
   ]
  },
  {
   "cell_type": "code",
   "execution_count": 45,
   "metadata": {},
   "outputs": [
    {
     "data": {
      "text/plain": [
       "array([-0.65945744, -0.2311326 , -0.26140898,  0.11271316, -0.2265742 ])"
      ]
     },
     "execution_count": 45,
     "metadata": {},
     "output_type": "execute_result"
    }
   ],
   "source": [
    "reg.coef_"
   ]
  },
  {
   "cell_type": "code",
   "execution_count": 46,
   "metadata": {},
   "outputs": [
    {
     "name": "stdout",
     "output_type": "stream",
     "text": [
      "[ 0.75981496  0.52589046  0.30678046  0.52375811  0.42384031  0.63059208\n",
      "  0.32814831  0.59500176  0.65519872  0.70204257]\n"
     ]
    }
   ],
   "source": [
    "xt = reg.predict(X_test)\n",
    "print(xt[:10])"
   ]
  },
  {
   "cell_type": "code",
   "execution_count": 47,
   "metadata": {},
   "outputs": [
    {
     "name": "stdout",
     "output_type": "stream",
     "text": [
      "1062    0.840163\n",
      "85      0.643524\n",
      "719     0.163267\n",
      "909     0.651820\n",
      "915     0.391762\n",
      "1394    0.823251\n",
      "1498    0.183051\n",
      "322     0.661685\n",
      "362     0.755710\n",
      "517     0.663547\n",
      "Name: sound, dtype: float64\n"
     ]
    }
   ],
   "source": [
    "print(y_test[:10])"
   ]
  },
  {
   "cell_type": "code",
   "execution_count": 48,
   "metadata": {},
   "outputs": [
    {
     "name": "stdout",
     "output_type": "stream",
     "text": [
      "1062   -0.080348\n",
      "85     -0.117633\n",
      "719     0.143513\n",
      "909    -0.128062\n",
      "915     0.032078\n",
      "1394   -0.192659\n",
      "1498    0.145097\n",
      "322    -0.066684\n",
      "362    -0.100512\n",
      "517     0.038496\n",
      "Name: sound, dtype: float64\n"
     ]
    }
   ],
   "source": [
    "print(xt[:10]-y_test[:10])"
   ]
  },
  {
   "cell_type": "code",
   "execution_count": 49,
   "metadata": {},
   "outputs": [
    {
     "data": {
      "text/plain": [
       "0.82082525550204899"
      ]
     },
     "execution_count": 49,
     "metadata": {},
     "output_type": "execute_result"
    }
   ],
   "source": [
    "reg.intercept_"
   ]
  },
  {
   "cell_type": "code",
   "execution_count": 50,
   "metadata": {},
   "outputs": [
    {
     "data": {
      "text/plain": [
       "LinearRegression(copy_X=True, fit_intercept=True, n_jobs=1, normalize=False)"
      ]
     },
     "execution_count": 50,
     "metadata": {},
     "output_type": "execute_result"
    }
   ],
   "source": [
    "# линейная регрессия без использования регуляризаторов;\n",
    "X, y = df.drop(['sound'], axis=1), df['sound']\n",
    "X_train, X_test, y_train, y_test = train_test_split(X, y, test_size = 0.3, random_state = 57)\n",
    "\n",
    "reg = linear_model.LinearRegression()\n",
    "\n",
    "reg.fit(X_train,y_train)"
   ]
  },
  {
   "cell_type": "code",
   "execution_count": 51,
   "metadata": {},
   "outputs": [
    {
     "data": {
      "text/plain": [
       "array([-0.67552255, -0.2373269 , -0.26522199,  0.11410144, -0.22673814])"
      ]
     },
     "execution_count": 51,
     "metadata": {},
     "output_type": "execute_result"
    }
   ],
   "source": [
    "reg.coef_"
   ]
  },
  {
   "cell_type": "code",
   "execution_count": 52,
   "metadata": {},
   "outputs": [
    {
     "data": {
      "text/plain": [
       "0.82572385725437636"
      ]
     },
     "execution_count": 52,
     "metadata": {},
     "output_type": "execute_result"
    }
   ],
   "source": [
    "reg.intercept_"
   ]
  },
  {
   "cell_type": "code",
   "execution_count": 53,
   "metadata": {},
   "outputs": [
    {
     "name": "stdout",
     "output_type": "stream",
     "text": [
      "0.695630799737\n",
      "0.670888313446\n"
     ]
    }
   ],
   "source": [
    "from scipy.stats import *\n",
    "corr={}\n",
    "corr['pearson'], _ = stats.pearsonr(xt,y_test)\n",
    "corr['spearman'], _ = stats.spearmanr(xt,y_test)\n",
    "print(corr['pearson'])\n",
    "print(corr['spearman'])"
   ]
  },
  {
   "cell_type": "code",
   "execution_count": null,
   "metadata": {
    "collapsed": true
   },
   "outputs": [],
   "source": []
  }
 ],
 "metadata": {
  "kernelspec": {
   "display_name": "Python 3",
   "language": "python",
   "name": "python3"
  },
  "language_info": {
   "codemirror_mode": {
    "name": "ipython",
    "version": 3
   },
   "file_extension": ".py",
   "mimetype": "text/x-python",
   "name": "python",
   "nbconvert_exporter": "python",
   "pygments_lexer": "ipython3",
   "version": "3.6.2"
  }
 },
 "nbformat": 4,
 "nbformat_minor": 2
}
